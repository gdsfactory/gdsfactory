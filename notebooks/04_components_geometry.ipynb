{
 "cells": [
  {
   "cell_type": "markdown",
   "id": "0",
   "metadata": {},
   "source": [
    "# Geometry\n",
    "\n",
    "gdsfactory provides you with some geometric functions"
   ]
  },
  {
   "cell_type": "markdown",
   "id": "1",
   "metadata": {},
   "source": [
    "## Boolean\n",
    "There are several common boolean-type operations available in the geometry library.  These include typical boolean operations (and/or/not/xor), offsetting (expanding/shrinking polygons), outlining, and inverting."
   ]
  },
  {
   "cell_type": "markdown",
   "id": "2",
   "metadata": {},
   "source": [
    "\n",
    "The ``gf.boolean()`` function can perform AND/OR/NOT/XOR operations, and will return a new geometry with the result of that operation."
   ]
  },
  {
   "cell_type": "code",
   "execution_count": null,
   "id": "3",
   "metadata": {},
   "outputs": [],
   "source": [
    "import gdsfactory as gf\n",
    "\n",
    "E = gf.components.ellipse(radii=(10, 5), layer=(1, 0))\n",
    "R = gf.components.rectangle(size=(15, 5), layer=(2, 0))\n",
    "C = gf.boolean(A=E, B=R, operation=\"not\", layer1=(1, 0), layer2=(2, 0), layer=(3, 0))\n",
    "# Other operations include 'and', 'or', 'xor', or equivalently 'A-B', 'B-A', 'A+B'\n",
    "\n",
    "# Plot the originals and the result\n",
    "D = gf.Component()\n",
    "D.add_ref(E)\n",
    "D.add_ref(R)\n",
    "D.add_ref(C).movex(30)\n",
    "D.plot()"
   ]
  },
  {
   "cell_type": "markdown",
   "id": "4",
   "metadata": {},
   "source": [
    "To learn how booleans work you can try all the different operations `not`, `and`, `or`, `xor`"
   ]
  },
  {
   "cell_type": "code",
   "execution_count": null,
   "id": "5",
   "metadata": {},
   "outputs": [],
   "source": [
    "import gdsfactory as gf\n",
    "\n",
    "operation = \"not\"\n",
    "operation = \"and\"\n",
    "operation = \"or\"\n",
    "operation = \"xor\"\n",
    "\n",
    "r1 = (8, 8)\n",
    "r2 = (11, 4)\n",
    "r1 = (80, 80)\n",
    "r2 = (110, 40)\n",
    "\n",
    "angle_resolution = 0.1\n",
    "\n",
    "c1 = gf.components.ellipse(radii=r1, layer=(1, 0), angle_resolution=angle_resolution)\n",
    "c2 = gf.components.ellipse(radii=r2, layer=(1, 0), angle_resolution=angle_resolution)"
   ]
  },
  {
   "cell_type": "code",
   "execution_count": null,
   "id": "6",
   "metadata": {},
   "outputs": [],
   "source": [
    "c4 = gf.boolean(c1, c2, operation=operation)\n",
    "c4.plot()"
   ]
  },
  {
   "cell_type": "markdown",
   "id": "7",
   "metadata": {},
   "source": [
    "## Flatten\n",
    "\n",
    "Hierarchical GDS uses references to optimize memory usage, but there are times when you may want to merge all polygons. In such cases, you can flatten the GDS to absorb all the references."
   ]
  },
  {
   "cell_type": "code",
   "execution_count": null,
   "id": "8",
   "metadata": {},
   "outputs": [],
   "source": [
    "import gdsfactory as gf\n",
    "\n",
    "c = gf.Component()\n",
    "e = c << gf.components.ellipse(\n",
    "    radii=(10, 5), layer=(1, 0)\n",
    ")  # Ellipse. equivalent to c.add_ref(gf.components.ellipse(radii=(10, 5), layer=(1, 0))\n",
    "r = c << gf.components.rectangle(\n",
    "    size=(15, 5), layer=(2, 0)\n",
    ")  # Rectangle. equivalent to c.add_ref(gf.components.rectangle(size=(15, 5), layer=(2, 0))\n",
    "print(len(c.insts))  # 2 component instances\n",
    "c.flatten()\n",
    "print(len(c.insts))  # 0 in the flattened component\n",
    "c"
   ]
  },
  {
   "cell_type": "markdown",
   "id": "9",
   "metadata": {},
   "source": [
    "## Offset"
   ]
  },
  {
   "cell_type": "code",
   "execution_count": null,
   "id": "10",
   "metadata": {},
   "outputs": [],
   "source": [
    "import gdsfactory as gf\n",
    "from gdsfactory.generic_tech import LAYER\n",
    "\n",
    "c = gf.components.coupler_ring()\n",
    "c"
   ]
  },
  {
   "cell_type": "code",
   "execution_count": null,
   "id": "11",
   "metadata": {},
   "outputs": [],
   "source": [
    "polygons = c.get_polygons()[LAYER.WG]\n",
    "polygons"
   ]
  },
  {
   "cell_type": "code",
   "execution_count": null,
   "id": "12",
   "metadata": {},
   "outputs": [],
   "source": [
    "r = gf.kdb.Region(polygons)\n",
    "r"
   ]
  },
  {
   "cell_type": "code",
   "execution_count": null,
   "id": "13",
   "metadata": {},
   "outputs": [],
   "source": [
    "c2 = c.dup()\n",
    "r = r.sized(2000)  # Note that the region is sized in DB units (1nm)\n",
    "c2.add_polygon(r, layer=LAYER.SLAB90)\n",
    "c2"
   ]
  },
  {
   "cell_type": "markdown",
   "id": "14",
   "metadata": {},
   "source": [
    "To avoid acute angles you can run over / under (dilation+erosion)."
   ]
  },
  {
   "cell_type": "code",
   "execution_count": null,
   "id": "15",
   "metadata": {},
   "outputs": [],
   "source": [
    "c2 = c.dup()\n",
    "\n",
    "d = 800  # DB units\n",
    "r = gf.kdb.Region(polygons)\n",
    "r = r.sized(+d + 2000)\n",
    "r = r.sized(-d)\n",
    "c2.add_polygon(r, layer=LAYER.SLAB90)\n",
    "c2"
   ]
  },
  {
   "cell_type": "markdown",
   "id": "16",
   "metadata": {},
   "source": [
    "You can also apply it to a component directly."
   ]
  },
  {
   "cell_type": "code",
   "execution_count": null,
   "id": "17",
   "metadata": {},
   "outputs": [],
   "source": [
    "c = gf.Component()\n",
    "core = gf.components.coupler_ring()\n",
    "\n",
    "clad = core.dup()\n",
    "clad.offset(layer=\"WG\", distance=1)\n",
    "clad.remap_layers({\"WG\": \"SLAB90\"})\n",
    "\n",
    "c.add_ref(core)\n",
    "c.add_ref(clad)\n",
    "\n",
    "c"
   ]
  },
  {
   "cell_type": "code",
   "execution_count": null,
   "id": "18",
   "metadata": {},
   "outputs": [],
   "source": [
    "c.over_under(layer=\"SLAB90\", distance=0.2)\n",
    "c"
   ]
  },
  {
   "cell_type": "markdown",
   "id": "19",
   "metadata": {},
   "source": [
    "## Outline"
   ]
  },
  {
   "cell_type": "code",
   "execution_count": null,
   "id": "20",
   "metadata": {},
   "outputs": [],
   "source": [
    "c2 = gf.Component()\n",
    "\n",
    "d = 800\n",
    "r = gf.kdb.Region(polygons)\n",
    "r_sized = r.sized(+2000)\n",
    "\n",
    "r_outline = r_sized - r\n",
    "c2.add_polygon(r_outline, layer=LAYER.SLAB90)\n",
    "c2"
   ]
  },
  {
   "cell_type": "markdown",
   "id": "21",
   "metadata": {},
   "source": [
    "## Round corners"
   ]
  },
  {
   "cell_type": "code",
   "execution_count": null,
   "id": "22",
   "metadata": {},
   "outputs": [],
   "source": [
    "c = gf.c.triangle()\n",
    "c"
   ]
  },
  {
   "cell_type": "code",
   "execution_count": null,
   "id": "23",
   "metadata": {},
   "outputs": [],
   "source": [
    "c2 = gf.Component()\n",
    "\n",
    "rinner = 1000  # \tThe circle radius of inner corners (in database units).\n",
    "router = 1000  # \tThe circle radius of outer corners (in database units).\n",
    "n = 300  # \tThe number of points per full circle.\n",
    "\n",
    "# round corners for one layer only\n",
    "for p in c.get_polygons()[LAYER.WG]:\n",
    "    p_round = p.round_corners(rinner, router, n)\n",
    "    c2.add_polygon(p_round, layer=LAYER.WG)\n",
    "\n",
    "c2"
   ]
  },
  {
   "cell_type": "code",
   "execution_count": null,
   "id": "24",
   "metadata": {},
   "outputs": [],
   "source": [
    "c = gf.Component()\n",
    "t = c << gf.c.triangle(x=10, y=20, layer=\"WG\")\n",
    "t = c << gf.c.triangle(x=20, y=40, layer=\"SLAB90\")\n",
    "\n",
    "c2 = gf.Component()\n",
    "rinner = 1000  # \tThe circle radius of inner corners (in database units).\n",
    "router = 1000  # \tThe circle radius of outer corners (in database units).\n",
    "n = 300  # \tThe number of points per full circle.\n",
    "\n",
    "# round corners for all layers\n",
    "for layer, polygons in c.get_polygons().items():\n",
    "    for p in polygons:\n",
    "        p_round = p.round_corners(rinner, router, n)\n",
    "        c2.add_polygon(p_round, layer=layer)\n",
    "\n",
    "c2"
   ]
  },
  {
   "cell_type": "markdown",
   "id": "25",
   "metadata": {},
   "source": [
    "## Union"
   ]
  },
  {
   "cell_type": "code",
   "execution_count": null,
   "id": "26",
   "metadata": {},
   "outputs": [],
   "source": [
    "import gdsfactory as gf\n",
    "\n",
    "c = gf.Component()\n",
    "e0 = c << gf.components.ellipse(layer=(1, 0))\n",
    "e1 = c << gf.components.ellipse(layer=(2, 0))\n",
    "e2 = c << gf.components.ellipse(layer=(3, 0))\n",
    "e3 = c << gf.components.ellipse(layer=(4, 0))\n",
    "e4 = c << gf.components.ellipse(layer=(5, 0))\n",
    "e5 = c << gf.components.ellipse(layer=(6, 0))\n",
    "\n",
    "e1.drotate(15 * 1)\n",
    "e2.drotate(15 * 2)\n",
    "e3.drotate(15 * 3)\n",
    "e4.drotate(15 * 4)\n",
    "e5.drotate(15 * 5)\n",
    "\n",
    "c"
   ]
  },
  {
   "cell_type": "code",
   "execution_count": null,
   "id": "27",
   "metadata": {},
   "outputs": [],
   "source": [
    "polygons = c.get_polygons()\n",
    "r = gf.kdb.Region()\n",
    "\n",
    "for polys in polygons.values():\n",
    "    r = r + gf.kdb.Region(polys)\n",
    "\n",
    "c2 = gf.Component()\n",
    "c2.add_polygon(r, layer=(1, 0))\n",
    "c2"
   ]
  },
  {
   "cell_type": "markdown",
   "id": "28",
   "metadata": {},
   "source": [
    "## Importing GDS files"
   ]
  },
  {
   "cell_type": "markdown",
   "id": "29",
   "metadata": {},
   "source": [
    "`gf.import_gds()` allows you to easily import external GDSII files.  It imports a single cell from the external GDS file and converts it into a gdsfactory component."
   ]
  },
  {
   "cell_type": "code",
   "execution_count": null,
   "id": "30",
   "metadata": {},
   "outputs": [],
   "source": [
    "D = gf.components.ellipse()\n",
    "D.write_gds(\"myoutput.gds\")\n",
    "D2 = gf.import_gds(gdspath=\"myoutput.gds\")\n",
    "D2.plot()"
   ]
  },
  {
   "cell_type": "markdown",
   "id": "31",
   "metadata": {},
   "source": [
    "## Copying and extracting geometry"
   ]
  },
  {
   "cell_type": "code",
   "execution_count": null,
   "id": "32",
   "metadata": {},
   "outputs": [],
   "source": [
    "E = gf.Component()\n",
    "E.add_ref(gf.components.ellipse(layer=(1, 0)))\n",
    "D = E.extract(layers=[(1, 0)])\n",
    "D.plot()"
   ]
  },
  {
   "cell_type": "code",
   "execution_count": null,
   "id": "33",
   "metadata": {},
   "outputs": [],
   "source": [
    "import gdsfactory as gf\n",
    "\n",
    "X = gf.components.ellipse(layer=(2, 0))\n",
    "c = X.copy()\n",
    "c.plot()"
   ]
  },
  {
   "cell_type": "code",
   "execution_count": null,
   "id": "34",
   "metadata": {},
   "outputs": [],
   "source": [
    "c = gf.c.straight()\n",
    "c.copy_layers(layer_map=dict(WG=(2, 0)), recursive=False) # type: ignore\n",
    "c"
   ]
  },
  {
   "cell_type": "markdown",
   "id": "35",
   "metadata": {},
   "source": [
    "## Import Images into GDS\n",
    "\n",
    "You can import your logo into GDS using the conversion from numpy arrays."
   ]
  },
  {
   "cell_type": "code",
   "execution_count": null,
   "id": "36",
   "metadata": {},
   "outputs": [],
   "source": [
    "import gdsfactory as gf\n",
    "from gdsfactory.config import PATH\n",
    "from gdsfactory.read.from_np import from_image\n",
    "\n",
    "c = from_image(\n",
    "    PATH.module / \"samples\" / \"images\" / \"logo.png\", nm_per_pixel=500, invert=False\n",
    ")\n",
    "c.plot()"
   ]
  },
  {
   "cell_type": "code",
   "execution_count": null,
   "id": "37",
   "metadata": {},
   "outputs": [],
   "source": [
    "c = from_image(\n",
    "    PATH.module / \"samples\" / \"images\" / \"logo.png\", nm_per_pixel=500, invert=True\n",
    ")\n",
    "c.plot()"
   ]
  },
  {
   "cell_type": "markdown",
   "id": "38",
   "metadata": {},
   "source": [
    "## Dummy Fill / Tiling\n",
    "\n",
    "To keep constant density in some layers you can add dummy fill shapes.\n",
    "\n",
    "For big layouts you should use tiling processor."
   ]
  },
  {
   "cell_type": "code",
   "execution_count": null,
   "id": "39",
   "metadata": {},
   "outputs": [],
   "source": [
    "import kfactory as kf\n",
    "from kfactory.utils.fill import fill_tiled\n",
    "\n",
    "import gdsfactory as gf\n",
    "\n",
    "c = kf.KCell(\"ToFill\")\n",
    "c.shapes(kf.kcl.layer(1, 0)).insert(\n",
    "    kf.kdb.DPolygon.ellipse(kf.kdb.DBox(5000, 3000), 512)\n",
    ")\n",
    "c.shapes(kf.kcl.layer(10, 0)).insert(\n",
    "    kf.kdb.DPolygon(\n",
    "        [kf.kdb.DPoint(0, 0), kf.kdb.DPoint(5000, 0), kf.kdb.DPoint(5000, 3000)]\n",
    "    )\n",
    ")\n",
    "\n",
    "fc = kf.KCell()\n",
    "fc.shapes(fc.kcl.layer(2, 0)).insert(kf.kdb.DBox(20, 40))\n",
    "fc.shapes(fc.kcl.layer(3, 0)).insert(kf.kdb.DBox(30, 15))\n",
    "\n",
    "# fill.fill_tiled(c, fc, [(kf.kcl.layer(1,0), 0)], exclude_layers = [(kf.kcl.layer(10,0), 100), (kf.kcl.layer(2,0), 0), (kf.kcl.layer(3,0),0)], x_space=5, y_space=5)\n",
    "fill_tiled(\n",
    "    c,\n",
    "    fc,\n",
    "    [(kf.kdb.LayerInfo(1, 0), 0)],\n",
    "    exclude_layers=[\n",
    "        (kf.kdb.LayerInfo(10, 0), 100),\n",
    "        (kf.kdb.LayerInfo(2, 0), 0),\n",
    "        (kf.kdb.LayerInfo(3, 0), 0),\n",
    "    ],\n",
    "    x_space=5,\n",
    "    y_space=5,\n",
    ")\n",
    "\n",
    "gdspath = \"mzi_fill.gds\"\n",
    "c.write(gdspath)\n",
    "c = gf.import_gds(gdspath, cellname=\"ToFill\")\n",
    "c.plot()"
   ]
  }
 ],
 "metadata": {
  "jupytext": {
   "cell_metadata_filter": "-all",
   "custom_cell_magics": "kql"
  },
  "kernelspec": {
   "display_name": "base",
   "language": "python",
   "name": "python3"
  },
  "language_info": {
   "codemirror_mode": {
    "name": "ipython",
    "version": 3
   },
   "file_extension": ".py",
   "mimetype": "text/x-python",
   "name": "python",
   "nbconvert_exporter": "python",
   "pygments_lexer": "ipython3",
   "version": "3.11.10"
  }
 },
 "nbformat": 4,
 "nbformat_minor": 5
}
