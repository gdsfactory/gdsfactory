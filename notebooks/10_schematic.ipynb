{
 "cells": [
  {
   "cell_type": "markdown",
   "id": "0",
   "metadata": {},
   "source": [
    "# Schematic\n",
    "\n",
    "A schematic is a graph representation of your circuit.\n",
    "\n",
    "For complex circuits, a schematic allows you to create symbols and hierarchy levels to represent your circuit.\n",
    "\n",
    "Having a schematic allows you to also ensure that your layout matches you schematic (design intent).\n",
    "\n",
    "There are many schematic capturing tools out there:\n",
    "\n",
    "- Qucs-s: for RF.\n",
    "- Xschem: for analog circuits.\n",
    "- Lumerical interconnect: for photonic circuits.\n",
    "\n",
    "These tools allow you to create schematics with either your mouse or by code.\n",
    "\n",
    "gdsfactory also allows you to create complex Schematics directly from python with a very simple interface."
   ]
  },
  {
   "cell_type": "code",
   "execution_count": null,
   "id": "1",
   "metadata": {},
   "outputs": [],
   "source": [
    "import gdsfactory as gf\n",
    "import gdsfactory.schematic as gt\n",
    "import yaml"
   ]
  },
  {
   "cell_type": "code",
   "execution_count": null,
   "id": "2",
   "metadata": {},
   "outputs": [],
   "source": [
    "from functools import partial\n",
    "\n",
    "import gdsfactory as gf\n",
    "\n",
    "\n",
    "@gf.schematic_cell(\n",
    "    factories=gf.get_factories.get_cells(\"gdsfactory\"),\n",
    "    routing_strategies=gf.get_active_pdk().routing_strategies\n",
    "    or {\n",
    "        \"route_bundle\": partial(\n",
    "            gf.routing.route_bundle, layer=gf.get_layer((1, 0)), route_width=1\n",
    "        )\n",
    "    },\n",
    ")\n",
    "\n",
    "def my_schematic(x: float = 108.5, y: float = 53.1) -> gf.kf.DSchematic:\n",
    "    \"\"\"Returns a schematic with two rings connected by a waveguide.\"\"\"\n",
    "    s = gf.Schematic()\n",
    "    r1 = s.create_inst(name=\"r1\", component=\"ring_single\")\n",
    "    r1.place(x=0, y=0)\n",
    "\n",
    "    r2 = s.create_inst(name=\"r2\", component=\"ring_single\", settings={\"radius\": 32.2})\n",
    "    r2.place(x=x, y=y)\n",
    "\n",
    "    s.add_route(\n",
    "        name=\"r1-r2\",\n",
    "        start_ports=[r1.ports[\"o2\"]],\n",
    "        end_ports=[r2.ports[\"o1\"]],\n",
    "        routing_strategy=\"route_bundle\",\n",
    "    )\n",
    "\n",
    "    return s\n",
    "\n",
    "c = my_schematic()\n",
    "c"
   ]
  },
  {
   "cell_type": "code",
   "execution_count": null,
   "id": "3",
   "metadata": {},
   "outputs": [],
   "source": [
    "@gf.schematic_cell()\n",
    "def my_schematic(x: float = 108.5, y: float = 53.1) -> gf.kf.DSchematic:\n",
    "    \"\"\"Returns a schematic with two rings connected by a waveguide.\"\"\"\n",
    "    s = gf.Schematic()\n",
    "    r1 = s.create_inst(name=\"r1\", component=\"ring_single\")\n",
    "    r1.place(x=0, y=0)\n",
    "\n",
    "    r2 = s.create_inst(name=\"r2\", component=\"ring_single\", settings={\"radius\": 32.2})\n",
    "    r2.place(x=x, y=y)\n",
    "\n",
    "    s.add_route(\n",
    "        name=\"r1-r2\",\n",
    "        start_ports=[r1.ports[\"o2\"]],\n",
    "        end_ports=[r2.ports[\"o1\"]],\n",
    "        routing_strategy=\"route_bundle\",\n",
    "    )\n",
    "\n",
    "    return s\n",
    "\n",
    "c = my_schematic()\n",
    "c"
   ]
  },
  {
   "cell_type": "code",
   "execution_count": null,
   "id": "4",
   "metadata": {},
   "outputs": [],
   "source": [
    "c = gf.c.mzi()\n",
    "\n",
    "# .plot_netlist_graphviz(): This method reads the component's netlist and uses Graphviz (a graph visualization tool) to create a block diagram.\n",
    "# interactive=False: This parameter specifies that the output should be a static image rather than an interactive plot.\n",
    "c.plot_netlist_graphviz(interactive=False)"
   ]
  },
  {
   "cell_type": "code",
   "execution_count": null,
   "id": "5",
   "metadata": {},
   "outputs": [],
   "source": [
    "c.plot_netlist()"
   ]
  },
  {
   "cell_type": "markdown",
   "id": "6",
   "metadata": {},
   "source": [
    "Lets create a MZI lattice of 3 elements."
   ]
  },
  {
   "cell_type": "code",
   "execution_count": null,
   "id": "7",
   "metadata": {},
   "outputs": [],
   "source": [
    "s = gt.Schematic()\n",
    "s.add_instance(\"mzi1\", gt.Instance(component=gf.c.mzi(delta_length=10)))\n",
    "s.add_instance(\"mzi2\", gt.Instance(component=gf.c.mzi(delta_length=100)))\n",
    "s.add_instance(\"mzi3\", gt.Instance(component=gf.c.mzi(delta_length=200)))\n",
    "s.add_placement(\"mzi1\", gt.Placement(x=000, y=0))\n",
    "s.add_placement(\"mzi2\", gt.Placement(x=100, y=100))\n",
    "s.add_placement(\"mzi3\", gt.Placement(x=200, y=0))\n",
    "\n",
    "# The connections, or nets, between the components are defined:\n",
    "# The first net connects the output port o2 of \"mzi1\" to the input port o1 of \"mzi2\".\n",
    "# The second net connects the output port o2 of \"mzi2\" to the input port o1 of \"mzi3\".\n",
    "s.add_net(gt.Net(p1=\"mzi1,o2\", p2=\"mzi2,o1\"))\n",
    "s.add_net(gt.Net(p1=\"mzi2,o2\", p2=\"mzi3,o1\"))\n",
    "g = s.plot_graphviz()"
   ]
  },
  {
   "cell_type": "markdown",
   "id": "8",
   "metadata": {},
   "source": [
    "You can also create a splitter tree."
   ]
  },
  {
   "cell_type": "code",
   "execution_count": null,
   "id": "9",
   "metadata": {},
   "outputs": [],
   "source": [
    "s = gt.Schematic()\n",
    "s.add_instance(\"s11\", gt.Instance(component=gf.c.mmi1x2()))\n",
    "s.add_instance(\"s21\", gt.Instance(component=gf.c.mmi1x2()))\n",
    "s.add_instance(\"s22\", gt.Instance(component=gf.c.mmi1x2()))\n",
    "s.add_placement(\"s11\", gt.Placement(x=000, y=0))\n",
    "s.add_placement(\"s21\", gt.Placement(x=100, y=+50))\n",
    "s.add_placement(\"s22\", gt.Placement(x=100, y=-50))\n",
    "s.add_net(gt.Net(p1=\"s11,o2\", p2=\"s21,o1\"))\n",
    "s.add_net(gt.Net(p1=\"s11,o3\", p2=\"s22,o1\"))\n",
    "g = s.plot_graphviz()"
   ]
  },
  {
   "cell_type": "markdown",
   "id": "10",
   "metadata": {},
   "source": [
    "The nice thing is that you can abstract it to have as many levels as you need."
   ]
  },
  {
   "cell_type": "code",
   "execution_count": null,
   "id": "11",
   "metadata": {},
   "outputs": [],
   "source": [
    "splitter = gf.components.mmi1x2()\n",
    "n = 3\n",
    "dx = 100\n",
    "dy = 100\n",
    "s = gt.Schematic()\n",
    "\n",
    "# This code programmatically creates a binary tree of splitter components for a schematic. Each column in the tree has twice as many splitters as the previous one,\n",
    "# and the outputs of each splitter are connected to the inputs of two splitters in the next column.\n",
    "\n",
    "for col in range(n): # Outer Loop: This loop iterates through each column of the tree.\n",
    "    rows = 2**col\n",
    "\n",
    "    # Inner Loop (for row in range(rows)): This loop iterates through each row within the current column.\n",
    "    # The number of rows (rows = 2**col) doubles with each column (1, 2, 4, 8...).\n",
    "    for row in range(rows):\n",
    "        \n",
    "        # For each position in the grid, a splitter component is created and placed. The y position is calculated to keep the column centered vertically.\n",
    "        s.add_instance(f\"s{col}{row}\", gt.Instance(component=splitter))\n",
    "        s.add_placement(\n",
    "            f\"s{col}{row}\", gt.Placement(x=col * dx, y=(row - rows / 2) * dy)\n",
    "        )\n",
    "\n",
    "        # This if statement ensures that connections are only made for components that are not in the last column.\n",
    "        # It defines the two nets that connect the outputs (o2, o3) of each splitter to the inputs (o1) of two corresponding splitters in the next column,\n",
    "        # creating the branching tree structure.\n",
    "        if col < n - 1:\n",
    "\n",
    "            # This line connects the first output port (o2) of the current splitter (s{col}{row}) to the input port (o1) of a splitter in the next column (s{col+1}).\n",
    "            # The specific splitter it connects to is at row 2*row.\n",
    "            s.add_net(gt.Net(p1=f\"s{col}{row},o2\", p2=f\"s{col+1}{2*row},o1\"))\n",
    "\n",
    "            # This line connects the second output port (o3) of the current splitter to the input port (o1) of another splitter in the next column.\n",
    "            # This splitter is at row 2*row+1, directly below the previous one.\n",
    "            s.add_net(gt.Net(p1=f\"s{col}{row},o3\", p2=f\"s{col+1}{2*row+1},o1\"))\n",
    "\n",
    "\n",
    "g = s.plot_graphviz()"
   ]
  },
  {
   "cell_type": "code",
   "execution_count": null,
   "id": "12",
   "metadata": {},
   "outputs": [],
   "source": [
    "splitter = gf.components.mmi1x2()\n",
    "n = 5\n",
    "dx = 100\n",
    "dy = 100\n",
    "s = gt.Schematic()\n",
    "\n",
    "for col in range(n):\n",
    "    rows = 2**col\n",
    "    for row in range(rows):\n",
    "        s.add_instance(f\"s{col}{row}\", gt.Instance(component=splitter))\n",
    "        s.add_placement(\n",
    "            f\"s{col}{row}\", gt.Placement(x=col * dx, y=(row - rows / 2) * dy)\n",
    "        )\n",
    "        if col < n - 1:\n",
    "            s.add_net(gt.Net(p1=f\"s{col}{row},o2\", p2=f\"s{col+1}{2*row},o1\"))\n",
    "            s.add_net(gt.Net(p1=f\"s{col}{row},o3\", p2=f\"s{col+1}{2*row+1},o1\"))\n",
    "\n",
    "\n",
    "g = s.plot_graphviz()"
   ]
  },
  {
   "cell_type": "code",
   "execution_count": null,
   "id": "13",
   "metadata": {},
   "outputs": [],
   "source": [
    "dict(s.netlist)"
   ]
  },
  {
   "cell_type": "code",
   "execution_count": null,
   "id": "14",
   "metadata": {},
   "outputs": [],
   "source": [
    "# s.netlist.model_dump(exclude_none=True)\n",
    "# This method converts the s.netlist object into a standard Python dictionary.\n",
    "# The exclude_none=True argument ensures that any keys with None (empty) values are omitted from the dictionary, keeping the output clean.\n",
    "# The yaml.dump() function takes the dictionary from the previous step and serializes it into a YAML string.\n",
    "yaml_component = yaml.dump(s.netlist.model_dump(exclude_none=True))\n",
    "print(yaml_component)"
   ]
  },
  {
   "cell_type": "code",
   "execution_count": null,
   "id": "15",
   "metadata": {},
   "outputs": [],
   "source": [
    "yaml.dump(s.netlist.model_dump(exclude_none=True), open(\"schematic.yaml\", \"w\"))"
   ]
  },
  {
   "cell_type": "markdown",
   "id": "16",
   "metadata": {},
   "source": [
    "## Python routing"
   ]
  },
  {
   "cell_type": "code",
   "execution_count": null,
   "id": "17",
   "metadata": {},
   "outputs": [],
   "source": [
    "n = 2**3\n",
    "splitter = gf.components.splitter_tree(noutputs=n, spacing=(50, 50))\n",
    "dbr_array = gf.components.array(\n",
    "    component=gf.c.dbr, rows=n, columns=1, column_pitch=0, row_pitch=3, centered=True\n",
    ")\n",
    "s = gt.Schematic()\n",
    "s.add_instance(\"s\", gt.Instance(component=splitter))\n",
    "s.add_instance(\"dbr\", gt.Instance(component=dbr_array))\n",
    "s.add_placement(\"s\", gt.Placement(x=0, y=0))\n",
    "s.add_placement(\"dbr\", gt.Placement(x=300, y=0))\n",
    "\n",
    "for i in range(n):\n",
    "    s.add_net(\n",
    "        gt.Net(\n",
    "\n",
    "            # This defines the start point of the connection. It constructs the port name for each of the 8 outputs of the splitter instance named \"s\".\n",
    "            p1=f\"s,o2_2_{i+1}\",\n",
    "\n",
    "            # This defines the end point of the connection. It constructs the port name for each of the 8 inputs of the DBR array instance named \"dbr\".\n",
    "            p2=f\"dbr,o1_{i+1}_1\",\n",
    "            name=\"splitter_to_dbr\",\n",
    "\n",
    "            # Provides instructions for the auto-router that will eventually draw the physical waveguides for these connections.\n",
    "            # radius=5: The bend radius for the connecting waveguides should be 5 µm.\n",
    "            # sort_ports=True: Tells the router to reorder the ports to find the shortest, non-crossing paths.\n",
    "            # cross_section=\"strip\": The connecting waveguides should be standard strip waveguides.\n",
    "            settings=dict(radius=5, sort_ports=True, cross_section=\"strip\"),\n",
    "        )\n",
    "    )\n",
    "\n",
    "g = s.plot_graphviz()"
   ]
  },
  {
   "cell_type": "code",
   "execution_count": null,
   "id": "18",
   "metadata": {},
   "outputs": [],
   "source": [
    "dbr_array.pprint_ports()"
   ]
  },
  {
   "cell_type": "code",
   "execution_count": null,
   "id": "19",
   "metadata": {},
   "outputs": [],
   "source": [
    "splitter.pprint_ports()"
   ]
  },
  {
   "cell_type": "code",
   "execution_count": null,
   "id": "20",
   "metadata": {},
   "outputs": [],
   "source": [
    "yaml.dump(s.netlist.model_dump(exclude_none=True), open(\"schematic.yaml\", \"w\"))\n",
    "yaml_component = yaml.dump(s.netlist.model_dump(exclude_none=True))\n",
    "print(yaml_component)"
   ]
  },
  {
   "cell_type": "code",
   "execution_count": null,
   "id": "21",
   "metadata": {},
   "outputs": [],
   "source": [
    "conf = s.netlist.model_dump(exclude_none=True)\n",
    "yaml_component = yaml.safe_dump(conf)\n",
    "print(yaml_component)"
   ]
  },
  {
   "cell_type": "code",
   "execution_count": null,
   "id": "22",
   "metadata": {},
   "outputs": [],
   "source": [
    "c = gf.read.from_yaml(yaml_component)\n",
    "c"
   ]
  }
 ],
 "metadata": {
  "jupytext": {
   "cell_metadata_filter": "-all",
   "custom_cell_magics": "kql",
   "encoding": "# -*- coding: utf-8 -*-"
  },
  "kernelspec": {
   "display_name": "base",
   "language": "python",
   "name": "python3"
  },
  "language_info": {
   "codemirror_mode": {
    "name": "ipython",
    "version": 3
   },
   "file_extension": ".py",
   "mimetype": "text/x-python",
   "name": "python",
   "nbconvert_exporter": "python",
   "pygments_lexer": "ipython3",
   "version": "3.12.9"
  }
 },
 "nbformat": 4,
 "nbformat_minor": 5
}
